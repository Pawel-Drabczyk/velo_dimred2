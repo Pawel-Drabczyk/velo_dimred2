{
 "cells": [
  {
   "cell_type": "code",
   "execution_count": 1,
   "metadata": {},
   "outputs": [
    {
     "data": {
      "text/plain": [
       "'25_02_2021_11_57_56'"
      ]
     },
     "execution_count": 1,
     "metadata": {},
     "output_type": "execute_result"
    }
   ],
   "source": [
    "import os\n",
    "import torch\n",
    "import pytorch_lightning as pl\n",
    "from torch.utils.data import DataLoader, TensorDataset\n",
    "from sklearn.model_selection import train_test_split\n",
    "from pytorch_lightning.loggers.neptune import NeptuneLogger\n",
    "from pytorch_lightning.callbacks import LearningRateMonitor\n",
    "from datetime import datetime\n",
    "datetime.now().strftime(\"%d_%m_%Y_%H_%M_%S\")"
   ]
  },
  {
   "cell_type": "code",
   "execution_count": 2,
   "metadata": {},
   "outputs": [],
   "source": [
    "from networks import VeloDecoder, VeloEncoder, VeloAutoencoderLt\n",
    "from calibration_dataset import Tell1Dataset"
   ]
  },
  {
   "cell_type": "code",
   "execution_count": 3,
   "metadata": {},
   "outputs": [],
   "source": [
    "#trainig parameters\n",
    "PARAMS = {'max_epochs': 1,\n",
    "          'learning_rate': 0.02,\n",
    "          'batch_size': 64,\n",
    "          'gpus': 1,\n",
    "          'experiment_name': 'testing small-net  standarized SGD no-dropout bigger-batches relu shuffle',\n",
    "          'tags': ['testing', 'large-net', 'standarized', 'SGD', 'no-dropout', 'bigger-batches', 'relu',\n",
    "                   'shuffle'],\n",
    "          'source_files': ['analyze_Pawel.py', 'networks.py']\n",
    "}\n"
   ]
  },
  {
   "cell_type": "code",
   "execution_count": 4,
   "metadata": {},
   "outputs": [],
   "source": [
    "class MyDS(Tell1Dataset):\n",
    "    filename_format = '%Y-%m-%d'\n",
    "    filename_regex_format = r'\\d{4}-\\d{2}-\\d{2}.csv'"
   ]
  },
  {
   "cell_type": "code",
   "execution_count": 5,
   "metadata": {},
   "outputs": [
    {
     "name": "stderr",
     "output_type": "stream",
     "text": [
      "100%|██████████| 30/30 [00:05<00:00,  5.72it/s]\n"
     ]
    }
   ],
   "source": [
    "#loading the data\n",
    "datapath = os.path.join(\"data\", \"calibrations\")\n",
    "data_list = MyDS.get_filepaths_from_dir(datapath)\n",
    "mds = MyDS(data_list, read=True)\n",
    "\n",
    "dfh = mds.dfh.df.iloc[:, 9:]\n",
    "dfh_r = mds.dfh['R'].df.iloc[:, 9:]\n",
    "dfh_phi = mds.dfh['phi'].df.iloc[:, 9:]\n",
    "dfp = mds.dfp.df.iloc[:, 9:]\n",
    "dfp_r = mds.dfp['R'].df.iloc[:, 9:]\n",
    "dfp_phi = mds.dfp['phi'].df.iloc[:, 9:]\n",
    "\n",
    "\n",
    "dfh_metadata = mds.dfh.df.iloc[:, :9]\n",
    "dfh_r_metadata = mds.dfh['R'].df.iloc[:, :9]\n",
    "dfh_phi_metadata = mds.dfh['phi'].df.iloc[:, :9]\n",
    "dfp_metadata = mds.dfp.df.iloc[:, :9]\n",
    "dfp_r_metadata = mds.dfp['R'].df.iloc[:, :9]\n",
    "dfp_phi_metadata = mds.dfp['phi'].df.iloc[:, :9]\n",
    "\n",
    "#scaling input data\n",
    "dfh = dfh.sub(dfh.mean(1), axis=0).div(dfh.std(1), axis=0)\n",
    "dfh_r = dfh_r.sub(dfh_r.mean(1), axis=0).div(dfh_r.std(1), axis=0)\n",
    "dfh_phi = dfh_phi.sub(dfh_phi.mean(1), axis=0).div(dfh_phi.std(1), axis=0)\n",
    "dfp = dfp.sub(dfp.mean(1), axis=0).div(dfp.std(1), axis=0)\n",
    "dfp_r = dfp_r.sub(dfp_r.mean(1), axis=0).div(dfp_r.std(1), axis=0)\n",
    "dfp_phi = dfp_phi.sub(dfp_phi.mean(1), axis=0).div(dfp_phi.std(1), axis=0)"
   ]
  },
  {
   "cell_type": "code",
   "execution_count": 6,
   "metadata": {},
   "outputs": [],
   "source": [
    "def make_loader(dataset):\n",
    "    train, test = train_test_split(dataset, test_size=0.2)\n",
    "    train_target = torch.tensor(train.values, dtype=torch.float)\n",
    "    train_data = torch.tensor(train.values, dtype=torch.float)\n",
    "    test_target = torch.tensor(test.values, dtype=torch.float)\n",
    "    test_data = torch.tensor(test.values, dtype=torch.float)\n",
    "    train_tensor = TensorDataset(train_data, train_target)\n",
    "    test_tensor = TensorDataset(test_data, test_target)\n",
    "    train_loader = DataLoader(dataset=train_tensor, shuffle=True)\n",
    "    test_loader = DataLoader(dataset=test_tensor, shuffle=True)\n",
    "    return train_loader, test_loader"
   ]
  },
  {
   "cell_type": "code",
   "execution_count": 7,
   "metadata": {},
   "outputs": [],
   "source": [
    "def make_model_trainer(s, neptune_logger, lr):\n",
    "    #s = 2048\n",
    "    dec = VeloDecoder(s)\n",
    "    enc = VeloEncoder(s)\n",
    "    model = VeloAutoencoderLt(enc, dec, lr)\n",
    "    lr_monitor = LearningRateMonitor(logging_interval='step')\n",
    "    tr = pl.Trainer(logger=neptune_logger, callbacks=[lr_monitor],  max_epochs=PARAMS['max_epochs'],\n",
    "                    gpus=PARAMS['gpus'])\n",
    "    return model, tr\n"
   ]
  },
  {
   "cell_type": "code",
   "execution_count": 8,
   "metadata": {},
   "outputs": [],
   "source": [
    "def run_experiment(dataset, datasetName, par):\n",
    "    train_loader, test_loader = make_loader(dataset)\n",
    "    s = dataset.shape[1]\n",
    "    neptune_logger = NeptuneLogger(\n",
    "        api_key=os.getenv('NEPTUNE_API_TOKEN'),\n",
    "        project_name=\"pawel-drabczyk/velodimred\",\n",
    "        experiment_name=par['experiment_name'],\n",
    "        params=par,\n",
    "        tags=par['tags'] + [datasetName],\n",
    "        upload_source_files=par['source_files']\n",
    "    )\n",
    "    model, tr = make_model_trainer(s, neptune_logger, par['learning_rate'])\n",
    "    tr.fit(model, train_loader, test_loader)\n",
    "\n",
    "    torch.save(model, os.path.join('models', PARAMS['experiment_name'], datasetName, \"trained_model.ckpt\"))\n",
    "    neptune_logger.experiment.log_artifact(os.path.join('models', PARAMS['experiment_name'], datasetName,\n",
    "                                                        \"trained_model.ckpt\"))\n"
   ]
  },
  {
   "cell_type": "code",
   "execution_count": 9,
   "metadata": {},
   "outputs": [
    {
     "name": "stderr",
     "output_type": "stream",
     "text": [
      "WARNING: There is a new version of neptune-client 0.4.130 (installed: 0.4.125).\n"
     ]
    },
    {
     "name": "stdout",
     "output_type": "stream",
     "text": [
      "https://ui.neptune.ai/pawel-drabczyk/velodimred/e/VEL-409\n"
     ]
    },
    {
     "name": "stderr",
     "output_type": "stream",
     "text": [
      "NeptuneLogger will work in online mode\n",
      "GPU available: True, used: True\n",
      "TPU available: False, using: 0 TPU cores\n",
      "LOCAL_RANK: 0 - CUDA_VISIBLE_DEVICES: [0]\n",
      "\n",
      "  | Name | Type        | Params\n",
      "-------------------------------------\n",
      "0 | enc  | VeloEncoder | 82 K  \n",
      "1 | dec  | VeloDecoder | 84 K  \n",
      "/home/pawel/anaconda3/envs/python_env_3.8/lib/python3.8/site-packages/pytorch_lightning/utilities/distributed.py:45: UserWarning: Your val_dataloader has `shuffle=True`, it is best practice to turn this off for validation and test dataloaders.\n",
      "  warnings.warn(*args, **kwargs)\n",
      "/home/pawel/anaconda3/envs/python_env_3.8/lib/python3.8/site-packages/pytorch_lightning/utilities/distributed.py:45: UserWarning: The dataloader, val dataloader 0, does not have many workers which may be a bottleneck. Consider increasing the value of the `num_workers` argument` (try 4 which is the number of cpus on this machine) in the `DataLoader` init to improve performance.\n",
      "  warnings.warn(*args, **kwargs)\n"
     ]
    },
    {
     "data": {
      "application/vnd.jupyter.widget-view+json": {
       "model_id": "",
       "version_major": 2,
       "version_minor": 0
      },
      "text/plain": [
       "HBox(children=(HTML(value='Validation sanity check'), FloatProgress(value=1.0, bar_style='info', layout=Layout…"
      ]
     },
     "metadata": {},
     "output_type": "display_data"
    },
    {
     "name": "stderr",
     "output_type": "stream",
     "text": [
      "/home/pawel/anaconda3/envs/python_env_3.8/lib/python3.8/site-packages/pytorch_lightning/utilities/distributed.py:45: UserWarning: The dataloader, train dataloader, does not have many workers which may be a bottleneck. Consider increasing the value of the `num_workers` argument` (try 4 which is the number of cpus on this machine) in the `DataLoader` init to improve performance.\n",
      "  warnings.warn(*args, **kwargs)\n",
      "/home/pawel/anaconda3/envs/python_env_3.8/lib/python3.8/site-packages/pytorch_lightning/utilities/distributed.py:45: RuntimeWarning: You are using LearningRateMonitor callback with models that have no learning rate schedulers. Please see documentation for `configure_optimizers` method.\n",
      "  warnings.warn(*args, **kwargs)\n"
     ]
    },
    {
     "data": {
      "application/vnd.jupyter.widget-view+json": {
       "model_id": "ecc97236a736435cbffbe7a4e77596e0",
       "version_major": 2,
       "version_minor": 0
      },
      "text/plain": [
       "HBox(children=(HTML(value='Training'), FloatProgress(value=1.0, bar_style='info', layout=Layout(flex='2'), max…"
      ]
     },
     "metadata": {},
     "output_type": "display_data"
    },
    {
     "data": {
      "application/vnd.jupyter.widget-view+json": {
       "model_id": "",
       "version_major": 2,
       "version_minor": 0
      },
      "text/plain": [
       "HBox(children=(HTML(value='Validating'), FloatProgress(value=1.0, bar_style='info', layout=Layout(flex='2'), m…"
      ]
     },
     "metadata": {},
     "output_type": "display_data"
    },
    {
     "name": "stdout",
     "output_type": "stream",
     "text": [
      "\n"
     ]
    }
   ],
   "source": [
    "datasetNames = ['dfh', 'dfhr', 'dfhphi', 'dfp', 'dfpr', 'dfpphi']\n",
    "\n",
    "for d in datasetNames:\n",
    "    if not os.path.exists(os.path.join('models', PARAMS['experiment_name'], d)):\n",
    "        os.makedirs(os.path.join('models', PARAMS['experiment_name'], d))\n",
    "\n",
    "run_experiment(dfh, 'dfh', PARAMS)\n",
    "#run_experiment(dfh_r, 'dfhr', PARAMS)\n",
    "#run_experiment(dfh_phi, 'dfhphi', PARAMS)\n",
    "#run_experiment(dfp, 'dfp', PARAMS)\n",
    "#run_experiment(dfp_r, 'dfpr', PARAMS)\n",
    "#run_experiment(dfp_phi, 'dfpphi', PARAMS)"
   ]
  }
 ],
 "metadata": {
  "jupytext": {
   "formats": "ipynb,py:light"
  },
  "kernelspec": {
   "display_name": "Python 3",
   "language": "python",
   "name": "python3"
  },
  "language_info": {
   "codemirror_mode": {
    "name": "ipython",
    "version": 3
   },
   "file_extension": ".py",
   "mimetype": "text/x-python",
   "name": "python",
   "nbconvert_exporter": "python",
   "pygments_lexer": "ipython3",
   "version": "3.8.5"
  }
 },
 "nbformat": 4,
 "nbformat_minor": 4
}
