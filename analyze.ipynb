{
 "cells": [
  {
   "cell_type": "markdown",
   "metadata": {},
   "source": [
    "<h1> VELO detector - dimensional reduction problem using autoencoders and PCA</h1>\n",
    "<h3> Authors: Tymoteusz Ciesielski, Paweł Drabczyk, Aleksander Morgała </h3>\n",
    "<h4> Project realised for the Python in the Enterprise course. </h4>\n",
    "<h4> AGH UST 2020/2021 </h4>\n"
   ]
  },
  {
   "cell_type": "markdown",
   "metadata": {},
   "source": [
    "<h4>Introduction</h4>\n",
    "Our task was to reduce the number of dimensions in the VELO detector. Each dimension of the problem represents one sensor from 4096 present. We have applied two approaches:\n",
    "<ol>\n",
    "    <li> Principal Component Analysis (PCA) </li>\n",
    "    <li> Autoencoders </li>\n",
    "</ol>\n",
    "\n",
    "<a href=https://lhcb-public.web.cern.ch/en/detector/VELO-en.html>Link to more information about VELO.</a>\n",
    "\n",
    "blablablablbalbalabala\n"
   ]
  },
  {
   "cell_type": "markdown",
   "metadata": {},
   "source": [
    "<h4> Data </h4>\n",
    "We were using the data from here:\n",
    "\n",
    "[insert some links etc]"
   ]
  },
  {
   "cell_type": "markdown",
   "metadata": {},
   "source": [
    "<h4> Technologies </h4>\n",
    "<ul>\n",
    "    <li> <b>Python</b> (PyTorch)</li>\n",
    "    <li> <b>Neptune AI </b> - to keep track of the training process, register networks architectures and save the parameters</li>\n",
    "    <li> Pandas</li>\n",
    "    <li> sth</li>\n",
    "</ul>\n",
    "    "
   ]
  },
  {
   "cell_type": "code",
   "execution_count": null,
   "metadata": {},
   "outputs": [],
   "source": [
    "import os\n",
    "import torch\n",
    "import pytorch_lightning as pl\n",
    "from torch.utils.data import DataLoader, TensorDataset\n",
    "from sklearn.model_selection import train_test_split\n",
    "from pytorch_lightning.loggers.neptune import NeptuneLogger\n",
    "from pytorch_lightning.callbacks import LearningRateMonitor\n",
    "from datetime import datetime\n",
    "datetime.now().strftime(\"%d_%m_%Y_%H_%M_%S\")\n",
    "import plotly.express as px\n",
    "import pandas as pd"
   ]
  },
  {
   "cell_type": "code",
   "execution_count": null,
   "metadata": {},
   "outputs": [],
   "source": [
    "from networks import VeloDecoder, VeloEncoder, VeloAutoencoderLt\n",
    "from calibration_dataset import Tell1Dataset"
   ]
  },
  {
   "cell_type": "markdown",
   "metadata": {},
   "source": [
    "Here we set the parameters for our autoencoder neutal network."
   ]
  },
  {
   "cell_type": "code",
   "execution_count": null,
   "metadata": {},
   "outputs": [],
   "source": [
    "#trainig parameters\n",
    "PARAMS = {'max_epochs': 1,\n",
    "          'learning_rate': 0.02,\n",
    "          'batch_size': 64,\n",
    "          'gpus': 1,\n",
    "          'experiment_name': 'testing small-net  standarized SGD no-dropout bigger-batches relu shuffle',\n",
    "          'tags': ['testing', 'large-net', 'standarized', 'SGD', 'no-dropout', 'bigger-batches', 'relu',\n",
    "                   'shuffle'],\n",
    "          'source_files': ['analyze_Pawel.py', 'networks.py']\n",
    "}"
   ]
  },
  {
   "cell_type": "code",
   "execution_count": null,
   "metadata": {},
   "outputs": [],
   "source": [
    "class MyDS(Tell1Dataset):\n",
    "    filename_format = '%Y-%m-%d'\n",
    "    filename_regex_format = r'\\d{4}-\\d{2}-\\d{2}.csv'"
   ]
  },
  {
   "cell_type": "code",
   "execution_count": null,
   "metadata": {},
   "outputs": [],
   "source": [
    "#loading the data\n",
    "datapath = os.path.join(\"data\", \"calibrations\")\n",
    "data_list = MyDS.get_filepaths_from_dir(datapath)\n",
    "mds = MyDS(data_list, read=True)\n",
    "\n",
    "dfh = mds.dfh.df.iloc[:, 9:]\n",
    "dfh_r = mds.dfh['R'].df.iloc[:, 9:]\n",
    "dfh_phi = mds.dfh['phi'].df.iloc[:, 9:]\n",
    "dfp = mds.dfp.df.iloc[:, 9:]\n",
    "dfp_r = mds.dfp['R'].df.iloc[:, 9:]\n",
    "dfp_phi = mds.dfp['phi'].df.iloc[:, 9:]\n",
    "\n",
    "\n",
    "dfh_metadata = mds.dfh.df.iloc[:, :9]\n",
    "print('dfh_metadata')\n",
    "print(dfh_metadata)\n",
    "dfh_r_metadata = mds.dfh['R'].df.iloc[:, :9]\n",
    "dfh_phi_metadata = mds.dfh['phi'].df.iloc[:, :9]\n",
    "dfp_metadata = mds.dfp.df.iloc[:, :9]\n",
    "dfp_r_metadata = mds.dfp['R'].df.iloc[:, :9]\n",
    "dfp_phi_metadata = mds.dfp['phi'].df.iloc[:, :9]\n",
    "\n",
    "\n",
    "#scaling input data\n",
    "dfh = dfh.sub(dfh.mean(1), axis=0).div(dfh.std(1), axis=0)\n",
    "dfh_r = dfh_r.sub(dfh_r.mean(1), axis=0).div(dfh_r.std(1), axis=0)\n",
    "dfh_phi = dfh_phi.sub(dfh_phi.mean(1), axis=0).div(dfh_phi.std(1), axis=0)\n",
    "dfp = dfp.sub(dfp.mean(1), axis=0).div(dfp.std(1), axis=0)\n",
    "dfp_r = dfp_r.sub(dfp_r.mean(1), axis=0).div(dfp_r.std(1), axis=0)\n",
    "dfp_phi = dfp_phi.sub(dfp_phi.mean(1), axis=0).div(dfp_phi.std(1), axis=0)"
   ]
  },
  {
   "cell_type": "code",
   "execution_count": null,
   "metadata": {},
   "outputs": [],
   "source": [
    "def make_loader(dataset):\n",
    "    train, test = train_test_split(dataset, test_size=0.2)\n",
    "    train_target = torch.tensor(train.values, dtype=torch.float)\n",
    "    train_data = torch.tensor(train.values, dtype=torch.float)\n",
    "    test_target = torch.tensor(test.values, dtype=torch.float)\n",
    "    test_data = torch.tensor(test.values, dtype=torch.float)\n",
    "    train_tensor = TensorDataset(train_data, train_target)\n",
    "    test_tensor = TensorDataset(test_data, test_target)\n",
    "    train_loader = DataLoader(dataset=train_tensor, shuffle=True)\n",
    "    test_loader = DataLoader(dataset=test_tensor, shuffle=True)\n",
    "    return train_loader, test_loader"
   ]
  },
  {
   "cell_type": "code",
   "execution_count": null,
   "metadata": {},
   "outputs": [],
   "source": [
    "def make_model_trainer(s, neptune_logger, lr):\n",
    "    #s = 2048\n",
    "    dec = VeloDecoder(s)\n",
    "    enc = VeloEncoder(s)\n",
    "    model = VeloAutoencoderLt(enc, dec, lr)\n",
    "    lr_monitor = LearningRateMonitor(logging_interval='step')\n",
    "    tr = pl.Trainer(logger=neptune_logger, callbacks=[lr_monitor],  max_epochs=PARAMS['max_epochs'],\n",
    "                    gpus=PARAMS['gpus'])\n",
    "    return model, tr"
   ]
  },
  {
   "cell_type": "code",
   "execution_count": null,
   "metadata": {},
   "outputs": [],
   "source": []
  },
  {
   "cell_type": "code",
   "execution_count": null,
   "metadata": {},
   "outputs": [],
   "source": [
    "def slider_plot(dataset, datasetName, metadata, model):\n",
    "    reducedData = model.enc.forward(torch.tensor(dataset.values, dtype=torch.float))\n",
    "    reducedData = reducedData.detach().numpy()\n",
    "     \n",
    "    indexesList = metadata.index.values.tolist()\n",
    "    xyDF = pd.DataFrame(reducedData, index=indexesList, columns=['x', 'y'])\n",
    "    resultDF = pd.concat([metadata, xyDF], axis=1)\n",
    "    resultDF[\"datetime\"] = resultDF[\"datetime\"].astype(str)\n",
    "\n",
    "    \n",
    "    \n",
    "#    fig = px.scatter(resultDF, x=\"x\", y=\"y\", animation_frame=\"datetime\", color=\"sensor\")\n",
    "    fig = px.scatter(resultDF, x=\"x\", y=\"y\", animation_frame=\"datetime\", animation_group=\"sensor\", color=\"sensor\")\n",
    "\n",
    "    fig[\"layout\"].pop(\"updatemenus\") # optional, drop animation buttons\n",
    "    fig.show()\n",
    "\n",
    "\n"
   ]
  },
  {
   "cell_type": "code",
   "execution_count": null,
   "metadata": {},
   "outputs": [],
   "source": [
    "def run_experiment(dataset, datasetName, par, metadata):\n",
    "    train_loader, test_loader = make_loader(dataset)\n",
    "    s = dataset.shape[1]\n",
    "    neptune_logger = NeptuneLogger(\n",
    "        api_key=os.getenv('NEPTUNE_API_TOKEN'),\n",
    "        project_name=\"pawel-drabczyk/velodimred\",\n",
    "        experiment_name=par['experiment_name'],\n",
    "        params=par,\n",
    "        tags=par['tags'] + [datasetName],\n",
    "        upload_source_files=par['source_files']\n",
    "    )\n",
    "    model, tr = make_model_trainer(s, neptune_logger, par['learning_rate'])\n",
    "    tr.fit(model, train_loader, test_loader)\n",
    "\n",
    "    torch.save(model, os.path.join('models', PARAMS['experiment_name'], datasetName, \"trained_model.ckpt\"))\n",
    "    neptune_logger.experiment.log_artifact(os.path.join('models', PARAMS['experiment_name'], datasetName,\n",
    "                                                        \"trained_model.ckpt\"))\n",
    "    slider_plot(dataset, datasetName, metadata, model)"
   ]
  },
  {
   "cell_type": "code",
   "execution_count": null,
   "metadata": {},
   "outputs": [],
   "source": []
  },
  {
   "cell_type": "code",
   "execution_count": null,
   "metadata": {},
   "outputs": [],
   "source": [
    "datasetNames = ['dfh', 'dfhr', 'dfhphi', 'dfp', 'dfpr', 'dfpphi']\n",
    "\n",
    "for d in datasetNames:\n",
    "    if not os.path.exists(os.path.join('models', PARAMS['experiment_name'], d)):\n",
    "        os.makedirs(os.path.join('models', PARAMS['experiment_name'], d))\n",
    "\n",
    "run_experiment(dfh, 'dfh', PARAMS, dfh_metadata)\n",
    "#run_experiment(dfh_r, 'dfhr', PARAMS, dfh_r_metadata)\n",
    "#run_experiment(dfh_phi, 'dfhphi', PARAMS, dfh_phi_metadata)\n",
    "#run_experiment(dfp, 'dfp', PARAMS, dfp_metadata)\n",
    "#run_experiment(dfp_r, 'dfpr', PARAMS, dfp_r_metadata)\n",
    "#run_experiment(dfp_phi, 'dfpphi', PARAMS, dfp_phi_metadata)"
   ]
  }
 ],
 "metadata": {
  "jupytext": {
   "formats": "ipynb,py:light"
  },
  "kernelspec": {
   "display_name": "Python 3",
   "language": "python",
   "name": "python3"
  },
  "language_info": {
   "codemirror_mode": {
    "name": "ipython",
    "version": 3
   },
   "file_extension": ".py",
   "mimetype": "text/x-python",
   "name": "python",
   "nbconvert_exporter": "python",
   "pygments_lexer": "ipython3",
   "version": "3.7.4"
  }
 },
 "nbformat": 4,
 "nbformat_minor": 4
}
